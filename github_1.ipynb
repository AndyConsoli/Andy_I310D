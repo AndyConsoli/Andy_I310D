{
  "nbformat": 4,
  "nbformat_minor": 0,
  "metadata": {
    "colab": {
      "provenance": []
    },
    "kernelspec": {
      "name": "python3",
      "display_name": "Python 3"
    },
    "language_info": {
      "name": "python"
    }
  },
  "cells": [
    {
      "cell_type": "code",
      "execution_count": null,
      "metadata": {
        "id": "aeDBsrJnjgRm"
      },
      "outputs": [],
      "source": [
        "import math\n",
        "\n",
        "def calculate_volume_of_sphere(radius):\n",
        "    volume = (4/3) * math.pi * radius**3\n",
        "    return volume\n",
        "\n",
        "if circle == \"circle\":\n",
        "    radius1 = 30\n",
        "    radius2 = 40\n",
        "    volume1 = calculate_volume_of_sphere(radius1)\n",
        "    volume2 = calculate_volume_of_sphere(radius2)\n",
        "\n",
        "    print(f\"Volume of a sphere with radius {radius1} is {volume1:.2f}\")\n",
        "    print(f\"Volume of a sphere with radius {radius2} is {volume2:.2f}\")"
      ]
    }
  ]
}